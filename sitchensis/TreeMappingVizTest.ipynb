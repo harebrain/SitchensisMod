{
 "cells": [
  {
   "cell_type": "markdown",
   "metadata": {},
   "source": [
    "Sitchensis program demo\n",
    "============"
   ]
  },
  {
   "cell_type": "code",
   "execution_count": 1,
   "metadata": {},
   "outputs": [
    {
     "data": {
      "text/html": [
       "<script>\n",
       "code_show=true; \n",
       "function code_toggle() {\n",
       " if (code_show){\n",
       " $('div.input').hide();\n",
       " } else {\n",
       " $('div.input').show();\n",
       " }\n",
       " code_show = !code_show\n",
       "} \n",
       "$( document ).ready(code_toggle);\n",
       "</script>\n",
       "<form action=\"javascript:code_toggle()\"><input type=\"submit\" value=\"Click here to toggle on/off the raw code.\"></form>"
      ],
      "text/plain": [
       "<IPython.core.display.HTML object>"
      ]
     },
     "execution_count": 1,
     "metadata": {},
     "output_type": "execute_result"
    }
   ],
   "source": [
    "from IPython.display import HTML\n",
    "\n",
    "HTML('''<script>\n",
    "code_show=true; \n",
    "function code_toggle() {\n",
    " if (code_show){\n",
    " $('div.input').hide();\n",
    " } else {\n",
    " $('div.input').show();\n",
    " }\n",
    " code_show = !code_show\n",
    "} \n",
    "$( document ).ready(code_toggle);\n",
    "</script>\n",
    "<form action=\"javascript:code_toggle()\"><input type=\"submit\" value=\"Click here to toggle on/off the raw code.\"></form>''')"
   ]
  },
  {
   "cell_type": "raw",
   "metadata": {},
   "source": [
    "Import necessary modules"
   ]
  },
  {
   "cell_type": "code",
   "execution_count": 1,
   "metadata": {},
   "outputs": [
    {
     "data": {
      "application/javascript": [
       "require.undef(\"nbextensions/vpython_libraries/glow.min\");"
      ],
      "text/plain": [
       "<IPython.core.display.Javascript object>"
      ]
     },
     "metadata": {},
     "output_type": "display_data"
    },
    {
     "data": {
      "application/javascript": [
       "require.undef(\"nbextensions/vpython_libraries/glowcomm\");"
      ],
      "text/plain": [
       "<IPython.core.display.Javascript object>"
      ]
     },
     "metadata": {},
     "output_type": "display_data"
    },
    {
     "data": {
      "application/javascript": [
       "require.undef(\"nbextensions/vpython_libraries/jquery-ui.custom.min\");"
      ],
      "text/plain": [
       "<IPython.core.display.Javascript object>"
      ]
     },
     "metadata": {},
     "output_type": "display_data"
    },
    {
     "data": {
      "application/javascript": [
       "require([\"nbextensions/vpython_libraries/glow.min\"], function(){console.log(\"GLOW LOADED\");})"
      ],
      "text/plain": [
       "<IPython.core.display.Javascript object>"
      ]
     },
     "metadata": {},
     "output_type": "display_data"
    },
    {
     "data": {
      "application/javascript": [
       "require([\"nbextensions/vpython_libraries/glowcomm\"], function(){console.log(\"GLOWCOMM LOADED\");})"
      ],
      "text/plain": [
       "<IPython.core.display.Javascript object>"
      ]
     },
     "metadata": {},
     "output_type": "display_data"
    },
    {
     "data": {
      "application/javascript": [
       "require([\"nbextensions/vpython_libraries/jquery-ui.custom.min\"], function(){console.log(\"JQUERY LOADED\");})"
      ],
      "text/plain": [
       "<IPython.core.display.Javascript object>"
      ]
     },
     "metadata": {},
     "output_type": "display_data"
    },
    {
     "data": {
      "text/html": [
       "<div id=\"glowscript\" class=\"glowscript\"></div>"
      ],
      "text/plain": [
       "<IPython.core.display.HTML object>"
      ]
     },
     "metadata": {},
     "output_type": "display_data"
    },
    {
     "data": {
      "application/javascript": [
       "window.__context = { glowscript_container: $(\"#glowscript\").removeAttr(\"id\")}"
      ],
      "text/plain": [
       "<IPython.core.display.Javascript object>"
      ]
     },
     "metadata": {},
     "output_type": "display_data"
    }
   ],
   "source": [
    "#System modules\n",
    "import os\n",
    "import tkinter as tk\n",
    "from tkinter.filedialog import askopenfilename\n",
    "\n",
    "#Third party modules\n",
    "import vpython as vp\n",
    "\n",
    "#Custom modules\n",
    "#import Sitchensis"
   ]
  },
  {
   "cell_type": "markdown",
   "metadata": {},
   "source": [
    "Test vPython"
   ]
  },
  {
   "cell_type": "code",
   "execution_count": 2,
   "metadata": {
    "scrolled": true
   },
   "outputs": [
    {
     "data": {
      "text/html": [
       "<div id=\"glowscript\" class=\"glowscript\"></div>"
      ],
      "text/plain": [
       "<IPython.core.display.HTML object>"
      ]
     },
     "metadata": {},
     "output_type": "display_data"
    },
    {
     "data": {
      "application/javascript": [
       "window.__context = { glowscript_container: $(\"#glowscript\").removeAttr(\"id\")}"
      ],
      "text/plain": [
       "<IPython.core.display.Javascript object>"
      ]
     },
     "metadata": {},
     "output_type": "display_data"
    }
   ],
   "source": [
    "scene = vp.canvas()\n",
    "vp.sphere()"
   ]
  },
  {
   "cell_type": "markdown",
   "metadata": {},
   "source": [
    "Test importing the data from an excel file on a local machine"
   ]
  },
  {
   "cell_type": "code",
   "execution_count": 9,
   "metadata": {},
   "outputs": [
    {
     "data": {
      "text/plain": [
       "OrderedDict([('main trunk et al.',\n",
       "                  name  height  rel ht        diam  radius      dist  azi ref ref type  \\\n",
       "              NaN    M   85.87     NaN    0.000000     NaN  3.500000  161   G      p2p   \n",
       "              NaN    M   83.20     NaN    6.500000     NaN  3.386698  161   G      p2p   \n",
       "              NaN    M   82.40     NaN    9.000000     NaN  3.352750  161   G      p2p   \n",
       "              NaN    M   81.40     NaN   10.800000     NaN  3.310315  161   G      p2p   \n",
       "              NaN    M   80.00     NaN   13.400000     NaN  3.250906  161   G      p2p   \n",
       "              NaN    M   77.90     NaN   18.200000     NaN  3.161792  161   G      p2p   \n",
       "              NaN    M   76.00     NaN   24.000000     NaN  3.081165  161   G      p2p   \n",
       "              NaN    M   73.70     NaN   29.900000     NaN  2.983565  161   G      p2p   \n",
       "              NaN    M   70.30     NaN   38.000000     NaN  2.839285  161   G      p2p   \n",
       "              NaN    M   67.30     NaN   48.000000     NaN  2.711980  161   G      p2p   \n",
       "              NaN    M   65.00     NaN   51.100000     NaN  2.614379  161   G      p2p   \n",
       "              NaN    M   60.10     NaN   63.300000     NaN  2.406447  161   G      p2p   \n",
       "              NaN    M   54.90     NaN   71.400000     NaN  2.185784  161   G      p2p   \n",
       "              NaN    M   50.00     NaN   79.100000     NaN  1.977852  161   G      p2p   \n",
       "              NaN    M   45.70     NaN   83.500000     NaN  1.795381  161   G      p2p   \n",
       "              NaN    M   40.00     NaN   90.900000     NaN  1.553501  161   G      p2p   \n",
       "              NaN    M   35.00     NaN   97.600000     NaN  1.341325  161   G      p2p   \n",
       "              NaN    M   29.70     NaN  104.000000     NaN  1.116419  161   G      p2p   \n",
       "              NaN    M   24.60     NaN  106.500000     NaN  0.900000  191   G      p2p   \n",
       "              NaN    M   20.10     NaN  111.700000     NaN  0.735366  191   G      p2p   \n",
       "              NaN    M   15.00     NaN  115.900000     NaN  0.548780  191   G      p2p   \n",
       "              NaN    M   10.00     NaN  120.800000     NaN  0.365854  191   G      p2p   \n",
       "              NaN    M    7.00     NaN  122.600000     NaN  0.256098  191   G      p2p   \n",
       "              NaN    M    5.00     NaN  125.633596     NaN  0.182927  191   G      p2p   \n",
       "              NaN    M    3.70     NaN  133.482723     NaN  0.135366  191   G      p2p   \n",
       "              NaN    M    2.40     NaN  151.073231     NaN  0.000000    0   G      p2p   \n",
       "              NaN    M    1.80     NaN  165.533225     NaN  0.000000    0   G      p2p   \n",
       "              NaN    M    1.30     NaN  184.379943     NaN  0.000000    0   G      p2p   \n",
       "              NaN    M    0.70     NaN  206.708009     NaN  0.000000    0   G      p2p   \n",
       "              NaN    M    0.00     NaN  281.480982     NaN  0.000000    0   G      p2p   \n",
       "              \n",
       "                   % dead             ...              bark C  mean sap  sap A  sap B  \\\n",
       "              NaN       0             ...                 NaN       NaN    NaN    NaN   \n",
       "              NaN       0             ...                 NaN       NaN    NaN    NaN   \n",
       "              NaN       0             ...                 NaN       NaN    NaN    NaN   \n",
       "              NaN       0             ...                 NaN       NaN    NaN    NaN   \n",
       "              NaN       0             ...                 NaN       NaN    NaN    NaN   \n",
       "              NaN       0             ...                 NaN       NaN    NaN    NaN   \n",
       "              NaN       0             ...                 NaN       NaN    NaN    NaN   \n",
       "              NaN       0             ...                 NaN       NaN    NaN    NaN   \n",
       "              NaN       0             ...                 NaN       NaN    NaN    NaN   \n",
       "              NaN       0             ...                 NaN       NaN    NaN    NaN   \n",
       "              NaN       0             ...                 NaN       NaN    NaN    NaN   \n",
       "              NaN       0             ...                 NaN       NaN    NaN    NaN   \n",
       "              NaN       0             ...                 NaN       NaN    NaN    NaN   \n",
       "              NaN       0             ...                 NaN       NaN    NaN    NaN   \n",
       "              NaN       0             ...                 NaN       NaN    NaN    NaN   \n",
       "              NaN       0             ...                 NaN       NaN    NaN    NaN   \n",
       "              NaN       0             ...                 NaN       NaN    NaN    NaN   \n",
       "              NaN       0             ...                 NaN       NaN    NaN    NaN   \n",
       "              NaN       0             ...                 NaN       NaN    NaN    NaN   \n",
       "              NaN       0             ...                 NaN       NaN    NaN    NaN   \n",
       "              NaN       0             ...                 NaN       NaN    NaN    NaN   \n",
       "              NaN       0             ...                 NaN       NaN    NaN    NaN   \n",
       "              NaN       0             ...                 NaN       NaN    NaN    NaN   \n",
       "              NaN       0             ...                 NaN       NaN    NaN    NaN   \n",
       "              NaN       0             ...                 NaN       NaN    NaN    NaN   \n",
       "              NaN       0             ...                 NaN       NaN    NaN    NaN   \n",
       "              NaN       0             ...                 NaN       NaN    NaN    NaN   \n",
       "              NaN       0             ...                 NaN       NaN    NaN    NaN   \n",
       "              NaN       0             ...                 NaN       NaN    NaN    NaN   \n",
       "              NaN       0             ...                 NaN       NaN    NaN    NaN   \n",
       "              \n",
       "                   sap C  mean heart  azi A  azi B  azi C                       NOTES  \n",
       "              NaN    NaN         NaN    NaN    NaN    NaN                         NaN  \n",
       "              NaN    NaN         NaN    NaN    NaN    NaN                         NaN  \n",
       "              NaN    NaN         NaN    NaN    NaN    NaN                         NaN  \n",
       "              NaN    NaN         NaN    NaN    NaN    NaN                         NaN  \n",
       "              NaN    NaN         NaN    NaN    NaN    NaN                         NaN  \n",
       "              NaN    NaN         NaN    NaN    NaN    NaN                         NaN  \n",
       "              NaN    NaN         NaN    NaN    NaN    NaN                         NaN  \n",
       "              NaN    NaN         NaN    NaN    NaN    NaN                         NaN  \n",
       "              NaN    NaN         NaN    NaN    NaN    NaN                         NaN  \n",
       "              NaN    NaN         NaN    NaN    NaN    NaN                         NaN  \n",
       "              NaN    NaN         NaN    NaN    NaN    NaN     60.4-65.5 Ph.Pini conks  \n",
       "              NaN    NaN         NaN    NaN    NaN    NaN                         NaN  \n",
       "              NaN    NaN         NaN    NaN    NaN    NaN                         NaN  \n",
       "              NaN    NaN         NaN    NaN    NaN    NaN                         NaN  \n",
       "              NaN    NaN         NaN    NaN    NaN    NaN                         NaN  \n",
       "              NaN    NaN         NaN    NaN    NaN    NaN                         NaN  \n",
       "              NaN    NaN         NaN    NaN    NaN    NaN  possible old break at 32.1  \n",
       "              NaN    NaN         NaN    NaN    NaN    NaN                         NaN  \n",
       "              NaN    NaN         NaN    NaN    NaN    NaN                         NaN  \n",
       "              NaN    NaN         NaN    NaN    NaN    NaN                         NaN  \n",
       "              NaN    NaN         NaN    NaN    NaN    NaN                         NaN  \n",
       "              NaN    NaN         NaN    NaN    NaN    NaN                         NaN  \n",
       "              NaN    NaN         NaN    NaN    NaN    NaN                         NaN  \n",
       "              NaN    NaN         NaN    NaN    NaN    NaN          becomes round here  \n",
       "              NaN    NaN         NaN    NaN    NaN    NaN                         DTB  \n",
       "              NaN    NaN         NaN    NaN    NaN    NaN            LPG=2.9 HPG=1.9   \n",
       "              NaN    NaN         NaN    NaN    NaN    NaN                         NaN  \n",
       "              NaN    NaN         NaN    NaN    NaN    NaN                         NaN  \n",
       "              NaN    NaN         NaN    NaN    NaN    NaN                         NaN  \n",
       "              NaN    NaN         NaN    NaN    NaN    NaN                         NaN  \n",
       "              \n",
       "              [30 rows x 25 columns]),\n",
       "             ('segments',\n",
       "                  position name O/E type  base ht  base diam  base radius  base dist  \\\n",
       "              NaN     base  M-1   O    B    77.80        8.5          NaN          0   \n",
       "              NaN     base  M-2   O    B    75.75        8.0          NaN          0   \n",
       "              NaN     base  M-3   O    B    67.55       12.5          NaN          0   \n",
       "              NaN     base  M-4   E    B    60.40        9.5          NaN          0   \n",
       "              \n",
       "                   base azi base ref  ...   top dist  top azi  top ref  top ref type  \\\n",
       "              NaN       132        M  ...        0.3      132        M           f2p   \n",
       "              NaN       184        M  ...        0.5      184        M           f2p   \n",
       "              NaN       266        M  ...        0.2      261        M           f2p   \n",
       "              NaN       276        M  ...        1.4      282        M           f2p   \n",
       "              \n",
       "                   % dead  s_fuzz l_fuzz midsegment dist  midsegment ref  NOTES  \n",
       "              NaN      85       3      0             NaN             NaN    NaN  \n",
       "              NaN      90       0      1             NaN             NaN    NaN  \n",
       "              NaN       0       0      0             NaN             NaN    NaN  \n",
       "              NaN     100       0      0             NaN             NaN    NaN  \n",
       "              \n",
       "              [4 rows x 24 columns]),\n",
       "             ('branches',\n",
       "                   name origin O/E L/D  ref radius  ref X  ref Y  ref Z  base ht  base diam  \\\n",
       "              NaN     1      M   O   L         NaN    NaN    NaN    NaN    82.60        4.3   \n",
       "              NaN     2      M   O   L         NaN    NaN    NaN    NaN    81.65        4.9   \n",
       "              NaN     3      M   O   L         NaN    NaN    NaN    NaN    81.30        4.6   \n",
       "              NaN     4      M   O   L         NaN    NaN    NaN    NaN    81.10        4.1   \n",
       "              NaN     5      M   O   L         NaN    NaN    NaN    NaN    80.80        5.9   \n",
       "              NaN     6      M   O   L         NaN    NaN    NaN    NaN    79.70        6.7   \n",
       "              NaN     7      M   O   L         NaN    NaN    NaN    NaN    79.40        8.2   \n",
       "              NaN     8      M   O   L         NaN    NaN    NaN    NaN    79.40        6.5   \n",
       "              NaN     9      M   O   L         NaN    NaN    NaN    NaN    78.60        7.3   \n",
       "              NaN    10      M   O   L         NaN    NaN    NaN    NaN    78.40        5.6   \n",
       "              NaN    11      M   O   L         NaN    NaN    NaN    NaN    77.70        7.6   \n",
       "              NaN    12      M   O   D         NaN    NaN    NaN    NaN    76.65        8.4   \n",
       "              NaN    13      M   O   L         NaN    NaN    NaN    NaN    76.55        9.4   \n",
       "              NaN    14      M   O   L         NaN    NaN    NaN    NaN    76.25        8.9   \n",
       "              NaN    15      M   O   L         NaN    NaN    NaN    NaN    75.30        5.3   \n",
       "              NaN    16      M   O   D         NaN    NaN    NaN    NaN    75.00        7.5   \n",
       "              NaN    17      M   O   L         NaN    NaN    NaN    NaN    74.20        5.4   \n",
       "              NaN    18      M   O   D         NaN    NaN    NaN    NaN    74.10       10.6   \n",
       "              NaN    19      M   O   L         NaN    NaN    NaN    NaN    73.90       11.0   \n",
       "              NaN    20      M   O   L         NaN    NaN    NaN    NaN    73.30       11.5   \n",
       "              NaN    21      M   O   L         NaN    NaN    NaN    NaN    72.90       11.3   \n",
       "              NaN    22      M   O   L         NaN    NaN    NaN    NaN    72.80        5.8   \n",
       "              NaN    23      M   O   L         NaN    NaN    NaN    NaN    72.90       11.4   \n",
       "              NaN    24      M   O   D         NaN    NaN    NaN    NaN    72.30        5.5   \n",
       "              NaN    25      M   O   L         NaN    NaN    NaN    NaN    72.05        7.8   \n",
       "              NaN    26      M   O   L         NaN    NaN    NaN    NaN    71.85       10.5   \n",
       "              NaN    27      M   E   L         NaN    NaN    NaN    NaN    71.85        4.8   \n",
       "              NaN    28      M   O   D         NaN    NaN    NaN    NaN    71.50       10.3   \n",
       "              NaN    29      M   O   L         NaN    NaN    NaN    NaN    70.90       13.3   \n",
       "              NaN    30      M   O   D         NaN    NaN    NaN    NaN    70.80        6.1   \n",
       "              ..    ...    ...  ..  ..         ...    ...    ...    ...      ...        ...   \n",
       "              NaN    96      M   O   D         NaN    NaN    NaN    NaN    49.90        5.4   \n",
       "              NaN    97      M   O   L         NaN    NaN    NaN    NaN    49.30       10.2   \n",
       "              NaN    98      M   O   L         NaN    NaN    NaN    NaN    48.70       11.9   \n",
       "              NaN    99      M   E   L         NaN    NaN    NaN    NaN    47.90        7.3   \n",
       "              NaN   100      M   E   L         NaN    NaN    NaN    NaN    47.80        9.0   \n",
       "              NaN   101      M   O   D         NaN    NaN    NaN    NaN    46.80        5.9   \n",
       "              NaN   102      M   O   L         NaN    NaN    NaN    NaN    56.60        8.0   \n",
       "              NaN   103      M   E   L         NaN    NaN    NaN    NaN    56.50        6.0   \n",
       "              NaN   104      M   O   D         NaN    NaN    NaN    NaN    56.20        4.7   \n",
       "              NaN   105      M   O   D         NaN    NaN    NaN    NaN    44.80        6.3   \n",
       "              NaN   106      M   E   D         NaN    NaN    NaN    NaN    44.80        5.8   \n",
       "              NaN   107      M   O   D         NaN    NaN    NaN    NaN    43.90        6.0   \n",
       "              NaN   108      M   E   L         NaN    NaN    NaN    NaN    45.20        6.3   \n",
       "              NaN   109      M   E   L         NaN    NaN    NaN    NaN    45.20        4.4   \n",
       "              NaN   110      M   E   D         NaN    NaN    NaN    NaN    43.90        5.2   \n",
       "              NaN   111      M   E   D         NaN    NaN    NaN    NaN    43.20        6.3   \n",
       "              NaN   112      M   O   L         NaN    NaN    NaN    NaN    43.40        8.6   \n",
       "              NaN   113      M   O   L         NaN    NaN    NaN    NaN    43.10        8.1   \n",
       "              NaN   114      M   E   L         NaN    NaN    NaN    NaN    42.00        5.4   \n",
       "              NaN   115      M   O   L         NaN    NaN    NaN    NaN    40.90        7.5   \n",
       "              NaN   116      M   E   D         NaN    NaN    NaN    NaN    40.85        4.7   \n",
       "              NaN   117      M   E   L         NaN    NaN    NaN    NaN    40.90        4.3   \n",
       "              NaN   118      M   O   D         NaN    NaN    NaN    NaN    39.70        4.9   \n",
       "              NaN   119      M   E   L         NaN    NaN    NaN    NaN    38.80        5.0   \n",
       "              NaN   120      M   E   L         NaN    NaN    NaN    NaN    35.90        6.2   \n",
       "              NaN   121      M   E   L         NaN    NaN    NaN    NaN    34.80        5.5   \n",
       "              NaN   122      M   E   L         NaN    NaN    NaN    NaN    34.20        8.1   \n",
       "              NaN   123      M   E   L         NaN    NaN    NaN    NaN    34.15        5.1   \n",
       "              NaN   124      M   E   L         NaN    NaN    NaN    NaN    33.90        4.0   \n",
       "              NaN   125      M   E   L         NaN    NaN    NaN    NaN    33.90        5.0   \n",
       "              \n",
       "                                       ...                       top ht  top diam  \\\n",
       "              NaN                      ...                          NaN       0.0   \n",
       "              NaN                      ...                          NaN       0.0   \n",
       "              NaN                      ...                          NaN       0.0   \n",
       "              NaN                      ...                          NaN       0.0   \n",
       "              NaN                      ...                          NaN       0.0   \n",
       "              NaN                      ...                          NaN       0.0   \n",
       "              NaN                      ...                          NaN       0.0   \n",
       "              NaN                      ...                          NaN       0.0   \n",
       "              NaN                      ...                          NaN       0.0   \n",
       "              NaN                      ...                          NaN       0.0   \n",
       "              NaN                      ...                          NaN       0.0   \n",
       "              NaN                      ...                          NaN       0.0   \n",
       "              NaN                      ...                          NaN       0.0   \n",
       "              NaN                      ...                          NaN       0.0   \n",
       "              NaN                      ...                          NaN       0.0   \n",
       "              NaN                      ...                          NaN       4.5   \n",
       "              NaN                      ...                          NaN       0.0   \n",
       "              NaN                      ...                         71.1       0.0   \n",
       "              NaN                      ...                          NaN       0.0   \n",
       "              NaN                      ...                          NaN       0.0   \n",
       "              NaN                      ...                          NaN       0.0   \n",
       "              NaN                      ...                          NaN       0.0   \n",
       "              NaN                      ...                          NaN       3.5   \n",
       "              NaN                      ...                          NaN       0.0   \n",
       "              NaN                      ...                          NaN       0.0   \n",
       "              NaN                      ...                          NaN       0.0   \n",
       "              NaN                      ...                          NaN       0.0   \n",
       "              NaN                      ...                          NaN       2.0   \n",
       "              NaN                      ...                          NaN       0.0   \n",
       "              NaN                      ...                          NaN       1.0   \n",
       "              ..                       ...                          ...       ...   \n",
       "              NaN                      ...                          NaN       1.0   \n",
       "              NaN                      ...                          NaN       0.0   \n",
       "              NaN                      ...                          NaN       0.0   \n",
       "              NaN                      ...                          NaN       0.0   \n",
       "              NaN                      ...                          NaN       0.0   \n",
       "              NaN                      ...                          NaN       1.0   \n",
       "              NaN                      ...                          NaN       0.0   \n",
       "              NaN                      ...                          NaN       0.0   \n",
       "              NaN                      ...                          NaN       0.5   \n",
       "              NaN                      ...                          NaN       1.0   \n",
       "              NaN                      ...                          NaN       1.0   \n",
       "              NaN                      ...                          NaN       1.0   \n",
       "              NaN                      ...                          NaN       0.0   \n",
       "              NaN                      ...                          NaN       0.0   \n",
       "              NaN                      ...                          NaN       2.0   \n",
       "              NaN                      ...                          NaN       0.5   \n",
       "              NaN                      ...                          NaN       0.0   \n",
       "              NaN                      ...                          NaN       0.0   \n",
       "              NaN                      ...                          NaN       0.0   \n",
       "              NaN                      ...                          NaN       0.0   \n",
       "              NaN                      ...                          NaN       3.0   \n",
       "              NaN                      ...                          NaN       0.0   \n",
       "              NaN                      ...                          NaN       0.2   \n",
       "              NaN                      ...                          NaN       0.0   \n",
       "              NaN                      ...                          NaN       0.0   \n",
       "              NaN                      ...                          NaN       0.0   \n",
       "              NaN                      ...                          NaN       0.0   \n",
       "              NaN                      ...                          NaN       0.0   \n",
       "              NaN                      ...                          NaN       0.0   \n",
       "              NaN                      ...                          NaN       0.0   \n",
       "              \n",
       "                   top radius   HD  slope   VD  % dead  midsegment dist  midsegment ref  \\\n",
       "              NaN         NaN  3.0   10.0  NaN       0              NaN             NaN   \n",
       "              NaN         NaN  3.4  -15.0  NaN       0              NaN             NaN   \n",
       "              NaN         NaN  4.2  -14.0  NaN       0              NaN             NaN   \n",
       "              NaN         NaN  3.0  -18.0  NaN       0              NaN             NaN   \n",
       "              NaN         NaN  3.5    7.0  NaN       0              NaN             NaN   \n",
       "              NaN         NaN  4.7  -22.0  NaN       0              NaN             NaN   \n",
       "              NaN         NaN  3.8   -2.0  NaN       0              NaN             NaN   \n",
       "              NaN         NaN  4.6  -20.0  NaN       0              NaN             NaN   \n",
       "              NaN         NaN  4.7  -18.0  NaN       0              NaN             NaN   \n",
       "              NaN         NaN  3.0  -12.0  NaN       0              NaN             NaN   \n",
       "              NaN         NaN  3.9  -13.0  NaN       0              NaN             NaN   \n",
       "              NaN         NaN  2.9   12.0  NaN     100              NaN             NaN   \n",
       "              NaN         NaN  6.7   -2.0  NaN       0              NaN             NaN   \n",
       "              NaN         NaN  4.2   24.0  NaN       0              NaN             NaN   \n",
       "              NaN         NaN  2.8   -8.0  NaN       0              NaN             NaN   \n",
       "              NaN         NaN  0.8  -18.0  NaN     100              NaN             NaN   \n",
       "              NaN         NaN  2.8  -24.0  NaN       0              NaN             NaN   \n",
       "              NaN         NaN  1.9    NaN -3.0     100              NaN             NaN   \n",
       "              NaN         NaN  5.9  -20.0  NaN       0              NaN             NaN   \n",
       "              NaN         NaN  5.9  -20.0  NaN       0              NaN             NaN   \n",
       "              NaN         NaN  5.8   -4.0  NaN       0              NaN             NaN   \n",
       "              NaN         NaN  2.9   -5.0  NaN       0              NaN             NaN   \n",
       "              NaN         NaN  4.5  -21.0  NaN       0              NaN             NaN   \n",
       "              NaN         NaN  1.3   -5.0  NaN     100              NaN             NaN   \n",
       "              NaN         NaN  3.5  -23.0  NaN      20              NaN             NaN   \n",
       "              NaN         NaN  5.2  -35.0  NaN       0              NaN             NaN   \n",
       "              NaN         NaN  2.3    5.0  NaN       0              NaN             NaN   \n",
       "              NaN         NaN  4.9   -2.0  NaN     100              NaN             NaN   \n",
       "              NaN         NaN  5.6   -8.0  NaN       0              NaN             NaN   \n",
       "              NaN         NaN  0.6    0.0  NaN     100              NaN             NaN   \n",
       "              ..          ...  ...    ...  ...     ...              ...             ...   \n",
       "              NaN         NaN  1.1   -1.0  NaN     100              NaN             NaN   \n",
       "              NaN         NaN  8.4   -4.0  NaN       0              NaN             NaN   \n",
       "              NaN         NaN  4.9  -22.0  NaN       0              NaN             NaN   \n",
       "              NaN         NaN  4.5  -32.0  NaN       0              NaN             NaN   \n",
       "              NaN         NaN  3.6  -26.0  NaN      40              NaN             NaN   \n",
       "              NaN         NaN  0.8    8.0  NaN     100              NaN             NaN   \n",
       "              NaN         NaN  5.1  -17.0  NaN       0              NaN             NaN   \n",
       "              NaN         NaN  4.0  -28.0  NaN       0              NaN             NaN   \n",
       "              NaN         NaN  0.9    4.0  NaN       0              NaN             NaN   \n",
       "              NaN         NaN  1.5  -25.0  NaN     100              NaN             NaN   \n",
       "              NaN         NaN  1.7  -39.0  NaN     100              NaN             NaN   \n",
       "              NaN         NaN  0.6   -4.0  NaN     100              NaN             NaN   \n",
       "              NaN         NaN  3.6    NaN -2.0       0              NaN             NaN   \n",
       "              NaN         NaN  2.4  -12.0  NaN      50              NaN             NaN   \n",
       "              NaN         NaN  0.8  -17.0  NaN     100              NaN             NaN   \n",
       "              NaN         NaN  0.7    NaN -1.0     100              NaN             NaN   \n",
       "              NaN         NaN  4.6  -24.0  NaN       0              NaN             NaN   \n",
       "              NaN         NaN  4.2    NaN -3.2       0              NaN             NaN   \n",
       "              NaN         NaN  3.7  -27.0  NaN       0              NaN             NaN   \n",
       "              NaN         NaN  4.9  -26.0  NaN       0              NaN             NaN   \n",
       "              NaN         NaN  1.0    NaN -1.2     100              NaN             NaN   \n",
       "              NaN         NaN  2.8  -25.0  NaN       0              NaN             NaN   \n",
       "              NaN         NaN  0.8    0.0  NaN     100              NaN             NaN   \n",
       "              NaN         NaN  3.1    NaN -2.3       0              NaN             NaN   \n",
       "              NaN         NaN  2.9    NaN -5.0       0              NaN             NaN   \n",
       "              NaN         NaN  3.5  -18.0  NaN       0              NaN             NaN   \n",
       "              NaN         NaN  4.7  -10.0  NaN       0              NaN             NaN   \n",
       "              NaN         NaN  3.6  -24.0  NaN      30              NaN             NaN   \n",
       "              NaN         NaN  2.5  -25.0  NaN       0              NaN             NaN   \n",
       "              NaN         NaN  2.8  -20.0  NaN       0              NaN             NaN   \n",
       "              \n",
       "                                                          NOTES  \n",
       "              NaN                                           NaN  \n",
       "              NaN                                           NaN  \n",
       "              NaN                                           NaN  \n",
       "              NaN                                           NaN  \n",
       "              NaN                                           NaN  \n",
       "              NaN                                           NaN  \n",
       "              NaN                                   Forked, IWN  \n",
       "              NaN                                           NaN  \n",
       "              NaN                                           NaN  \n",
       "              NaN                                           NaN  \n",
       "              NaN                                        Forked  \n",
       "              NaN                                        Curved  \n",
       "              NaN                                           NaN  \n",
       "              NaN                                           NaN  \n",
       "              NaN                                           NaN  \n",
       "              NaN                                           NaN  \n",
       "              NaN                                           NaN  \n",
       "              NaN                            Broken and hanging  \n",
       "              NaN                                        Forked  \n",
       "              NaN                                        Forked  \n",
       "              NaN                                        Forked  \n",
       "              NaN                                        Forked  \n",
       "              NaN                                        Forked  \n",
       "              NaN                                        Forked  \n",
       "              NaN                   Forked, Broke and recovered  \n",
       "              NaN                                        Forked  \n",
       "              NaN                                        Forked  \n",
       "              NaN                                        Forked  \n",
       "              NaN                                    Forked,IWN  \n",
       "              NaN                                        Forked  \n",
       "              ..                                            ...  \n",
       "              NaN                                           NaN  \n",
       "              NaN                                        Forked  \n",
       "              NaN                                        Forked  \n",
       "              NaN                                        Forked  \n",
       "              NaN                          Swollen base, Forked  \n",
       "              NaN                                           NaN  \n",
       "              NaN                                        Forked  \n",
       "              NaN                                        Forked  \n",
       "              NaN                                        Forked  \n",
       "              NaN                                           NaN  \n",
       "              NaN                                           NaN  \n",
       "              NaN                                           NaN  \n",
       "              NaN                                        Forked  \n",
       "              NaN                                        Forked  \n",
       "              NaN                                           NaN  \n",
       "              NaN                                           NaN  \n",
       "              NaN                                 Highly forked  \n",
       "              NaN                                        Forked  \n",
       "              NaN                                        Forked  \n",
       "              NaN                                        Forked  \n",
       "              NaN                                           NaN  \n",
       "              NaN                                        Forked  \n",
       "              NaN                                           NaN  \n",
       "              NaN                                        Forked  \n",
       "              NaN                                        Forked  \n",
       "              NaN  5 epicormics make a continuous spray, Forked  \n",
       "              NaN  5 epicormics make a continuous spray, Forked  \n",
       "              NaN  5 epicormics make a continuous spray, Forked  \n",
       "              NaN  5 epicormics make a continuous spray, Forked  \n",
       "              NaN  5 epicormics make a continuous spray, Forked  \n",
       "              \n",
       "              [124 rows x 23 columns]),\n",
       "             ('Cores',\n",
       "                 region focalTree    nickName Ref  coreHt core  diameter  coreAZI  sap  \\\n",
       "              0     Hoh        T1  TallSkinny   M    10.0    A     120.8      192  6.6   \n",
       "              1     Hoh        T1  TallSkinny   M    30.0    A     104.0      225  6.5   \n",
       "              2     Hoh        T1  TallSkinny   M    50.0    A      79.1      256  5.5   \n",
       "              3     Hoh        T1  TallSkinny   M     3.7    A     134.5      290  6.7   \n",
       "              4     Hoh        T1  TallSkinny   M     3.7    B     134.5      104  7.5   \n",
       "              5     Hoh        T1  TallSkinny   M    10.0    B     120.8      118  6.6   \n",
       "              6     Hoh        T1  TallSkinny   M    30.0    B     104.0      274  6.6   \n",
       "              7     Hoh        T1  TallSkinny   M    50.0    B      79.1       31  4.4   \n",
       "              8     Hoh        T1  TallSkinny   M    70.0    A      38.0      324  3.5   \n",
       "              9     Hoh        T1  TallSkinny   M    70.0    B      38.0        2  4.4   \n",
       "              10    Hoh        T1  TallSkinny   M    80.0    A      13.4      108  2.5   \n",
       "              11    Hoh        T1  TallSkinny   M    80.0    B      13.4      288  2.6   \n",
       "              \n",
       "                  bark    wetLen  dryLen dateCollected pith                            notes  \n",
       "              0    2.3  scale up    68.5    2016-07-08    N  highly mangled, tought to mount  \n",
       "              1    4.0  scale up    58.1    2016-07-08    Y                    taken at 29.7  \n",
       "              2    3.7  scale up    60.7    2016-07-08    Y                              NaN  \n",
       "              3    1.5      79.1    77.9    2016-07-08    N                              DTB  \n",
       "              4    2.5      72.5    70.8    2016-07-08    N            DTB, Broken near bark  \n",
       "              5    3.0      73.5    71.2    2016-07-08    N                              NaN  \n",
       "              6    2.1      54.2    52.6    2016-07-08    N                    taken at 29.7  \n",
       "              7    1.4      53.1    50.6    2016-07-08    N                              NaN  \n",
       "              8    1.4      28.9    27.5    2016-07-08    N                    taken at 70.3  \n",
       "              9    1.6      24.7    24.6    2016-07-08    N                    taken at 70.3  \n",
       "              10   0.6       5.6     5.5    2016-07-08    N    thru punch 11.2cm wood length  \n",
       "              11   0.7       5.6     5.5    2016-07-08    N    thru punch 11.2cm wood length  ),\n",
       "             ('Declination',\n",
       "                  Tree  Final easting  Final northing       Date  Declination\n",
       "              0  HohT1  432102.623052    5.302057e+06 2016-07-08        16.15),\n",
       "             ('Footprint',    height (m)      tape D     f-D  ratio  NOTES\n",
       "              0         0.0         NaN  281.48    NaN    NaN\n",
       "              1         NaN         NaN  206.71    NaN    NaN\n",
       "              2         1.3  211.200000  184.38    NaN    NaN\n",
       "              3         1.8         NaN  165.53    NaN    NaN\n",
       "              4         2.4  154.300000  151.07    NaN    NaN\n",
       "              5         3.7  134.500000  133.48    NaN    NaN\n",
       "              6         5.0  125.633596  125.63    NaN    NaN\n",
       "              7         7.0  122.600000  122.60    NaN    NaN)])"
      ]
     },
     "execution_count": 9,
     "metadata": {},
     "output_type": "execute_result"
    }
   ],
   "source": [
    "fileName = r\"C:\\Users\\rdk10\\Dropbox\\KramerPhDBackup\\FinalTreesRaw\\HohT1_15Feb2018.xlsx\"\n",
    "treeName = \"Testing\"\n",
    "treeData = pd.read_excel(fileName, sheet_name = None)\n",
    "treeData"
   ]
  },
  {
   "cell_type": "markdown",
   "metadata": {},
   "source": [
    "Now I need to import a custom function to do something with these data"
   ]
  },
  {
   "cell_type": "markdown",
   "metadata": {},
   "source": [
    "Lastly, export the data in a new format"
   ]
  },
  {
   "cell_type": "code",
   "execution_count": 10,
   "metadata": {},
   "outputs": [
    {
     "data": {
      "text/plain": [
       "'9Apr2018'"
      ]
     },
     "execution_count": 10,
     "metadata": {},
     "output_type": "execute_result"
    }
   ],
   "source": [
    " date = pd.Timestamp(\"today\").strftime(\"%d%b%Y\").lstrip('0')\n",
    " date"
   ]
  },
  {
   "cell_type": "code",
   "execution_count": 11,
   "metadata": {
    "collapsed": true
   },
   "outputs": [],
   "source": [
    " #writer = pd.ExcelWriter('{0}_{1}.xlsx'.format(treeName, date), engine='xlsxwriter')"
   ]
  },
  {
   "cell_type": "code",
   "execution_count": 15,
   "metadata": {},
   "outputs": [
    {
     "data": {
      "text/plain": [
       "'C:\\\\Users\\\\rdk10'"
      ]
     },
     "execution_count": 15,
     "metadata": {},
     "output_type": "execute_result"
    }
   ],
   "source": [
    "import os, sys\n",
    "cwd = os.getcwd()\n",
    "cwd"
   ]
  },
  {
   "cell_type": "code",
   "execution_count": 16,
   "metadata": {
    "collapsed": true
   },
   "outputs": [],
   "source": [
    " #treeData['segments'].to_excel(writer, sheet_name = 'trunk', index = False)\n",
    " #writer.save()"
   ]
  },
  {
   "cell_type": "markdown",
   "metadata": {},
   "source": [
    "Some Questions I have:\n",
    "\n",
    "Can user specify saving files to their local machine or are outputs redirected to my machine??\n",
    "How can I specify importing custom code or a GitHub module?\n",
    "Can they run the notebook without installing anything, or do I need some sort of binder for this?"
   ]
  },
  {
   "cell_type": "code",
   "execution_count": null,
   "metadata": {
    "collapsed": true
   },
   "outputs": [],
   "source": []
  }
 ],
 "metadata": {
  "kernelspec": {
   "display_name": "VPython",
   "language": "python",
   "name": "vpython"
  },
  "language_info": {
   "codemirror_mode": {
    "name": "ipython",
    "version": 3
   },
   "file_extension": ".py",
   "mimetype": "text/x-python",
   "name": "python",
   "nbconvert_exporter": "python",
   "pygments_lexer": "ipython3",
   "version": "3.6.3"
  }
 },
 "nbformat": 4,
 "nbformat_minor": 2
}
